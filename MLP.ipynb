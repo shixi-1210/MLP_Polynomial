{
 "cells": [
  {
   "cell_type": "code",
   "execution_count": 461,
   "metadata": {},
   "outputs": [],
   "source": [
    "import torch\n",
    "from torch.nn import Linear\n",
    "import torch.nn.functional as F\n",
    "import numpy as np \n",
    "import matplotlib.pyplot as plt \n"
   ]
  },
  {
   "cell_type": "code",
   "execution_count": 462,
   "metadata": {},
   "outputs": [],
   "source": [
    "def poly3(x):\n",
    "    return 1/6*(x**3) - x**2/4 + x + 1\n",
    "   "
   ]
  },
  {
   "cell_type": "code",
   "execution_count": 488,
   "metadata": {},
   "outputs": [
    {
     "name": "stdout",
     "output_type": "stream",
     "text": [
      "tensor([[  1.,   0.,   0.,   0.],\n",
      "        [  1.,   1.,   1.,   1.],\n",
      "        [  1.,   2.,   4.,   8.],\n",
      "        [  1.,   3.,   9.,  27.],\n",
      "        [  1.,   4.,  16.,  64.],\n",
      "        [  1.,   5.,  25., 125.],\n",
      "        [  1.,   6.,  36., 216.],\n",
      "        [  1.,   7.,  49., 343.],\n",
      "        [  1.,   8.,  64., 512.],\n",
      "        [  1.,   9.,  81., 729.]], device='cuda:0')\n"
     ]
    },
    {
     "data": {
      "image/png": "[encoded data removed]",
      "text/plain": [
       "<Figure size 360x288 with 1 Axes>"
      ]
     },
     "metadata": {
      "needs_background": "light"
     },
     "output_type": "display_data"
    }
   ],
   "source": [
    "#拟合一段三次曲线\n",
    "n = 10 \n",
    "x = np.array(range(n))\n",
    "y = poly3(x)\n",
    "plt.figure(1,figsize=(5,4))\n",
    "plt.rcParams['font.sans-serif']=['SimHei']\n",
    "plt.rcParams['axes.unicode_minus'] = False\n",
    "plt.plot(x,y,'ro-')\n",
    "plt.title('给定的三次曲线')\n",
    "dim = 4\n",
    "X = np.array([x**i for i in range(dim)]).transpose()\n",
    "X = torch.tensor(X).to(device='cuda').float()\n",
    "print(X)"
   ]
  },
  {
   "cell_type": "code",
   "execution_count": 464,
   "metadata": {},
   "outputs": [
    {
     "name": "stdout",
     "output_type": "stream",
     "text": [
      "x =  tensor([[0.],\n",
      "        [1.],\n",
      "        [2.],\n",
      "        [3.],\n",
      "        [4.],\n",
      "        [5.],\n",
      "        [6.],\n",
      "        [7.],\n",
      "        [8.],\n",
      "        [9.]], device='cuda:0')\n",
      "y =  tensor([[  1.0000],\n",
      "        [  1.9167],\n",
      "        [  3.3333],\n",
      "        [  6.2500],\n",
      "        [ 11.6667],\n",
      "        [ 20.5833],\n",
      "        [ 34.0000],\n",
      "        [ 52.9167],\n",
      "        [ 78.3333],\n",
      "        [111.2500]], device='cuda:0')\n"
     ]
    }
   ],
   "source": [
    "x = torch.tensor(x).to(device='cuda')\n",
    "x = x.unsqueeze(dim = 1).float()\n",
    "y = torch.tensor(y).to(device='cuda')\n",
    "y = y.unsqueeze(dim = 1).float()\n",
    "print('x = ',x)\n",
    "print('y = ',y)\n"
   ]
  },
  {
   "cell_type": "code",
   "execution_count": 468,
   "metadata": {},
   "outputs": [],
   "source": [
    "class MLP(torch.nn.Module):\n",
    "    def __init__(self,num_input,num_output,num_hidden=16):\n",
    "        super(MLP,self).__init__()\n",
    "        self.lin1 = Linear(num_input, num_output,bias = False)\n",
    "        # self.lin2 = Linear(num_hidden,num_output)\n",
    "    def forward(self,x):\n",
    "        y = F.relu(self.lin1(x))\n",
    "        y = F.dropout(y,p = 0.5)\n",
    "        # y = F.relu(self.lin2(y))\n",
    "        return y\n"
   ]
  },
  {
   "cell_type": "code",
   "execution_count": 475,
   "metadata": {},
   "outputs": [],
   "source": [
    "num_input = dim\n",
    "num_output = 1\n",
    "model = MLP(num_input,num_output).to(device='cuda')\n",
    "optimizer = torch.optim.Adam(model.parameters(),lr = 2e-2,weight_decay=5e-4)\n",
    "\n",
    "# out = model(x)\n",
    "# print(out)\n",
    "# print(y)\n"
   ]
  },
  {
   "cell_type": "code",
   "execution_count": 476,
   "metadata": {},
   "outputs": [
    {
     "name": "stdout",
     "output_type": "stream",
     "text": [
      "epoch: 1, the loss is: 2308.348145\n",
      "epoch: 2, the loss is: 2308.348145\n",
      "epoch: 3, the loss is: 2308.348145\n",
      "epoch: 4, the loss is: 2308.348145\n",
      "epoch: 5, the loss is: 2308.348145\n",
      "epoch: 6, the loss is: 2308.348145\n",
      "epoch: 7, the loss is: 2308.348145\n",
      "epoch: 8, the loss is: 2308.343262\n",
      "epoch: 9, the loss is: 2308.348145\n",
      "epoch: 10, the loss is: 2308.335938\n",
      "epoch: 11, the loss is: 2308.348145\n",
      "epoch: 12, the loss is: 2308.327393\n",
      "epoch: 13, the loss is: 2308.322754\n",
      "epoch: 14, the loss is: 2308.348145\n",
      "epoch: 15, the loss is: 2308.312988\n",
      "epoch: 16, the loss is: 2308.348145\n",
      "epoch: 17, the loss is: 2308.348145\n",
      "epoch: 18, the loss is: 2308.300049\n",
      "epoch: 19, the loss is: 2308.295898\n",
      "epoch: 20, the loss is: 2308.225830\n",
      "epoch: 21, the loss is: 2300.859375\n",
      "epoch: 22, the loss is: 1641.223999\n",
      "epoch: 23, the loss is: 1709.843018\n",
      "epoch: 24, the loss is: 1808.756104\n",
      "epoch: 25, the loss is: 1608.315430\n",
      "epoch: 26, the loss is: 1682.350220\n",
      "epoch: 27, the loss is: 792.447876\n",
      "epoch: 28, the loss is: 1699.453491\n",
      "epoch: 29, the loss is: 1938.573120\n",
      "epoch: 30, the loss is: 2089.916260\n",
      "epoch: 31, the loss is: 1593.280151\n",
      "epoch: 32, the loss is: 793.836914\n",
      "epoch: 33, the loss is: 705.241333\n",
      "epoch: 34, the loss is: 339.941376\n",
      "epoch: 35, the loss is: 487.158752\n",
      "epoch: 36, the loss is: 1252.134155\n",
      "epoch: 37, the loss is: 1115.111694\n",
      "epoch: 38, the loss is: 2051.762451\n",
      "epoch: 39, the loss is: 445.608490\n",
      "epoch: 40, the loss is: 986.073364\n",
      "epoch: 41, the loss is: 516.793945\n",
      "epoch: 42, the loss is: 1643.665649\n",
      "epoch: 43, the loss is: 154.871979\n",
      "epoch: 44, the loss is: 803.075562\n",
      "epoch: 45, the loss is: 442.647461\n",
      "epoch: 46, the loss is: 675.220093\n",
      "epoch: 47, the loss is: 253.749680\n",
      "epoch: 48, the loss is: 510.593475\n",
      "epoch: 49, the loss is: 1896.428345\n",
      "epoch: 50, the loss is: 1113.585815\n",
      "epoch: 51, the loss is: 2257.636719\n",
      "epoch: 52, the loss is: 242.571518\n",
      "epoch: 53, the loss is: 1093.983765\n",
      "epoch: 54, the loss is: 1068.607056\n",
      "epoch: 55, the loss is: 904.310364\n",
      "epoch: 56, the loss is: 2179.015137\n",
      "epoch: 57, the loss is: 421.566010\n",
      "epoch: 58, the loss is: 1302.177612\n",
      "epoch: 59, the loss is: 380.625549\n",
      "epoch: 60, the loss is: 1918.184448\n",
      "epoch: 61, the loss is: 2293.849365\n",
      "epoch: 62, the loss is: 1429.665283\n",
      "epoch: 63, the loss is: 2147.358154\n",
      "epoch: 64, the loss is: 1418.146973\n",
      "epoch: 65, the loss is: 1899.927979\n",
      "epoch: 66, the loss is: 1267.573242\n",
      "epoch: 67, the loss is: 2135.836670\n",
      "epoch: 68, the loss is: 1578.097534\n",
      "epoch: 69, the loss is: 140.603577\n",
      "epoch: 70, the loss is: 899.088013\n",
      "epoch: 71, the loss is: 1985.460571\n",
      "epoch: 72, the loss is: 672.537231\n",
      "epoch: 73, the loss is: 1012.556091\n",
      "epoch: 74, the loss is: 2265.493896\n",
      "epoch: 75, the loss is: 743.952271\n",
      "epoch: 76, the loss is: 683.973816\n",
      "epoch: 77, the loss is: 1364.283081\n",
      "epoch: 78, the loss is: 1522.866455\n",
      "epoch: 79, the loss is: 1682.239868\n",
      "epoch: 80, the loss is: 131.814560\n",
      "epoch: 81, the loss is: 1023.749939\n",
      "epoch: 82, the loss is: 1410.603882\n",
      "epoch: 83, the loss is: 2136.519287\n",
      "epoch: 84, the loss is: 1410.681763\n",
      "epoch: 85, the loss is: 1300.963379\n",
      "epoch: 86, the loss is: 1852.947266\n",
      "epoch: 87, the loss is: 2010.262085\n",
      "epoch: 88, the loss is: 1639.968018\n",
      "epoch: 89, the loss is: 1017.913269\n",
      "epoch: 90, the loss is: 1401.463013\n",
      "epoch: 91, the loss is: 1286.286255\n",
      "epoch: 92, the loss is: 1680.379150\n",
      "epoch: 93, the loss is: 1052.937500\n",
      "epoch: 94, the loss is: 1053.365845\n",
      "epoch: 95, the loss is: 117.976151\n",
      "epoch: 96, the loss is: 1286.257690\n",
      "epoch: 97, the loss is: 1254.283447\n",
      "epoch: 98, the loss is: 1399.122559\n",
      "epoch: 99, the loss is: 620.070984\n",
      "epoch: 100, the loss is: 748.168762\n",
      "epoch: 101, the loss is: 618.906616\n",
      "epoch: 102, the loss is: 177.166550\n",
      "epoch: 103, the loss is: 1396.256836\n",
      "epoch: 104, the loss is: 619.951660\n",
      "epoch: 105, the loss is: 731.245544\n",
      "epoch: 106, the loss is: 661.881531\n",
      "epoch: 107, the loss is: 1899.114258\n",
      "epoch: 108, the loss is: 1057.762451\n",
      "epoch: 109, the loss is: 177.517593\n",
      "epoch: 110, the loss is: 285.727966\n",
      "epoch: 111, the loss is: 323.254852\n",
      "epoch: 112, the loss is: 895.672302\n",
      "epoch: 113, the loss is: 1899.007202\n",
      "epoch: 114, the loss is: 777.471008\n",
      "epoch: 115, the loss is: 941.701355\n",
      "epoch: 116, the loss is: 396.824890\n",
      "epoch: 117, the loss is: 734.212646\n",
      "epoch: 118, the loss is: 670.657837\n",
      "epoch: 119, the loss is: 2293.433105\n",
      "epoch: 120, the loss is: 1694.741455\n",
      "epoch: 121, the loss is: 2262.077881\n",
      "epoch: 122, the loss is: 411.587372\n",
      "epoch: 123, the loss is: 177.869339\n",
      "epoch: 124, the loss is: 1895.362915\n",
      "epoch: 125, the loss is: 1070.896851\n",
      "epoch: 126, the loss is: 632.043152\n",
      "epoch: 127, the loss is: 2023.268188\n",
      "epoch: 128, the loss is: 733.702576\n",
      "epoch: 129, the loss is: 401.006409\n",
      "epoch: 130, the loss is: 2307.229248\n",
      "epoch: 131, the loss is: 899.300964\n",
      "epoch: 132, the loss is: 15.196657\n",
      "epoch: 133, the loss is: 130.290527\n",
      "epoch: 134, the loss is: 453.027496\n",
      "epoch: 135, the loss is: 618.548889\n",
      "epoch: 136, the loss is: 4.945951\n",
      "epoch: 137, the loss is: 1633.632446\n",
      "epoch: 138, the loss is: 1010.327454\n",
      "epoch: 139, the loss is: 172.426315\n",
      "epoch: 140, the loss is: 131.244125\n",
      "epoch: 141, the loss is: 2013.720703\n",
      "epoch: 142, the loss is: 163.685135\n",
      "epoch: 143, the loss is: 670.241577\n",
      "epoch: 144, the loss is: 2248.313965\n",
      "epoch: 145, the loss is: 776.223938\n",
      "epoch: 146, the loss is: 729.815552\n",
      "epoch: 147, the loss is: 1014.567200\n",
      "epoch: 148, the loss is: 777.273071\n",
      "epoch: 149, the loss is: 1898.509644\n",
      "epoch: 150, the loss is: 1535.848877\n",
      "epoch: 151, the loss is: 1397.348633\n",
      "epoch: 152, the loss is: 414.637421\n",
      "epoch: 153, the loss is: 773.557068\n",
      "epoch: 154, the loss is: 660.860291\n",
      "epoch: 155, the loss is: 657.983765\n",
      "epoch: 156, the loss is: 4.611878\n",
      "epoch: 157, the loss is: 294.297607\n",
      "epoch: 158, the loss is: 954.230774\n",
      "epoch: 159, the loss is: 2179.058838\n",
      "epoch: 160, the loss is: 336.804474\n",
      "epoch: 161, the loss is: 1575.507080\n",
      "epoch: 162, the loss is: 660.546021\n",
      "epoch: 163, the loss is: 1009.829285\n",
      "epoch: 164, the loss is: 1895.519165\n",
      "epoch: 165, the loss is: 2131.732666\n",
      "epoch: 166, the loss is: 1535.667847\n",
      "epoch: 167, the loss is: 1564.522461\n",
      "epoch: 168, the loss is: 909.025513\n",
      "epoch: 169, the loss is: 1522.997070\n",
      "epoch: 170, the loss is: 1637.708252\n",
      "epoch: 171, the loss is: 396.476715\n",
      "epoch: 172, the loss is: 1255.610840\n",
      "epoch: 173, the loss is: 2014.773315\n",
      "epoch: 174, the loss is: 46.908730\n",
      "epoch: 175, the loss is: 1065.973511\n",
      "epoch: 176, the loss is: 2136.620361\n",
      "epoch: 177, the loss is: 1051.858643\n",
      "epoch: 178, the loss is: 1400.360718\n",
      "epoch: 179, the loss is: 670.543152\n",
      "epoch: 180, the loss is: 2174.083740\n",
      "epoch: 181, the loss is: 748.258362\n",
      "epoch: 182, the loss is: 14.356285\n",
      "epoch: 183, the loss is: 43.321621\n",
      "epoch: 184, the loss is: 1397.057007\n",
      "epoch: 185, the loss is: 895.393555\n",
      "epoch: 186, the loss is: 173.556564\n",
      "epoch: 187, the loss is: 2289.767334\n",
      "epoch: 188, the loss is: 2145.240967\n",
      "epoch: 189, the loss is: 1070.916016\n",
      "epoch: 190, the loss is: 2027.117188\n",
      "epoch: 191, the loss is: 1985.749268\n",
      "epoch: 192, the loss is: 954.217896\n",
      "epoch: 193, the loss is: 674.106873\n",
      "epoch: 194, the loss is: 1052.896362\n",
      "epoch: 195, the loss is: 2146.371338\n",
      "epoch: 196, the loss is: 172.469284\n",
      "epoch: 197, the loss is: 1238.689453\n",
      "epoch: 198, the loss is: 2187.907959\n",
      "epoch: 199, the loss is: 747.262390\n",
      "epoch: 200, the loss is: 631.783142\n"
     ]
    }
   ],
   "source": [
    "epoches = 200\n",
    "model.train()\n",
    "for epoch in range(epoches):\n",
    "    optimizer.zero_grad()\n",
    "    out = model(X)\n",
    "    loss = F.mse_loss(out,y)\n",
    "    loss.backward()\n",
    "    optimizer.step()\n",
    "    print(f'epoch: {epoch+1}, the loss is: {loss:4f}')\n",
    "\n",
    "\n",
    "\n"
   ]
  },
  {
   "cell_type": "code",
   "execution_count": 477,
   "metadata": {},
   "outputs": [
    {
     "data": {
      "text/plain": [
       "Text(0.5, 1.0, '训练集上表现结果')"
      ]
     },
     "execution_count": 477,
     "metadata": {},
     "output_type": "execute_result"
    },
    {
     "data": {
      "image/png": "[encoded data removed]",
      "text/plain": [
       "<Figure size 360x288 with 1 Axes>"
      ]
     },
     "metadata": {
      "needs_background": "light"
     },
     "output_type": "display_data"
    }
   ],
   "source": [
    "x_cpu  = x.cpu()\n",
    "y_cpu = y.cpu()\n",
    "out_cpu = model.cpu().detach()\n",
    "plt.figure(1,figsize=(5,4))\n",
    "plt.rcParams['font.sans-serif']=['SimHei']\n",
    "plt.rcParams['axes.unicode_minus'] = False\n",
    "plt.plot(x_cpu ,y_cpu,'ro-')\n",
    "\n",
    "plt.plot(x_cpu ,out_cpu,'bo-')\n",
    "plt.legend(['真实','预测'])\n",
    "plt.title('训练集上表现结果')\n",
    "\n"
   ]
  },
  {
   "cell_type": "code",
   "execution_count": 502,
   "metadata": {},
   "outputs": [],
   "source": [
    "pre = np.linspace(0,n,n*10)\n"
   ]
  },
  {
   "cell_type": "code",
   "execution_count": 503,
   "metadata": {},
   "outputs": [],
   "source": [
    "Pre = np.array([pre**i for i in range(dim)]).transpose()\n"
   ]
  },
  {
   "cell_type": "code",
   "execution_count": 514,
   "metadata": {},
   "outputs": [
    {
     "name": "stderr",
     "output_type": "stream",
     "text": [
      "C:\\Users\\17718\\AppData\\Local\\Temp\\ipykernel_10248\\259406757.py:1: UserWarning: To copy construct from a tensor, it is recommended to use sourceTensor.clone().detach() or sourceTensor.clone().detach().requires_grad_(True), rather than torch.tensor(sourceTensor).\n",
      "  Pre = torch.tensor(Pre).to(device='cuda').float()\n"
     ]
    },
    {
     "data": {
      "text/plain": [
       "[<matplotlib.lines.Line2D at 0x20c8c4dcc70>]"
      ]
     },
     "execution_count": 514,
     "metadata": {},
     "output_type": "execute_result"
    },
    {
     "data": {
      "image/png": "[encoded data removed]",
      "text/plain": [
       "<Figure size 432x288 with 1 Axes>"
      ]
     },
     "metadata": {
      "needs_background": "light"
     },
     "output_type": "display_data"
    }
   ],
   "source": [
    "Pre = torch.tensor(Pre).to(device='cuda').float()\n",
    "Out = model(Pre).detach().cpu()\n",
    "plt.plot(pre,Out,'r-.')"
   ]
  },
  {
   "cell_type": "code",
   "execution_count": null,
   "metadata": {},
   "outputs": [],
   "source": []
  }
 ],
 "metadata": {
  "interpreter": {
   "hash": "78f4f05530d440f19aca31b9f11ceabfd1aa052f250d0d36c2740188a2c66e54"
  },
  "kernelspec": {
   "display_name": "Python 3.9.7 ('pytorch')",
   "language": "python",
   "name": "python3"
  },
  "language_info": {
   "codemirror_mode": {
    "name": "ipython",
    "version": 3
   },
   "file_extension": ".py",
   "mimetype": "text/x-python",
   "name": "python",
   "nbconvert_exporter": "python",
   "pygments_lexer": "ipython3",
   "version": "3.9.7"
  },
  "orig_nbformat": 4
 },
 "nbformat": 4,
 "nbformat_minor": 2
}
